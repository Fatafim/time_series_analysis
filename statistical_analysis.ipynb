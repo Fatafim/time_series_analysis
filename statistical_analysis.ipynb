{
 "cells": [
  {
   "cell_type": "code",
   "execution_count": 88,
   "metadata": {
    "collapsed": true
   },
   "outputs": [
    {
     "name": "stdout",
     "output_type": "stream",
     "text": [
      "The rpy2.ipython extension is already loaded. To reload it, use:\n",
      "  %reload_ext rpy2.ipython\n"
     ]
    }
   ],
   "source": [
    "import fredapi\n",
    "from fredapi import Fred\n",
    "import matplotlib.pyplot as plt\n",
    "from statsmodels.tsa.stattools import coint\n",
    "from statsmodels.tsa.vector_ar.vecm import *\n",
    "import statsmodels.api as sm\n",
    "import numpy as np\n",
    "import pandas as pd\n",
    "import yfinance as yf\n",
    "from scipy.stats import norm\n",
    "from scipy import stats\n",
    "from scipy.stats import kurtosis\n",
    "from scipy.stats import skew\n",
    "%load_ext rpy2.ipython"
   ]
  },
  {
   "cell_type": "code",
   "execution_count": 13,
   "metadata": {
    "pycharm": {
     "name": "#%%\n"
    },
    "scrolled": true
   },
   "outputs": [
    {
     "name": "stderr",
     "output_type": "stream",
     "text": [
      "R[write to console]: Installing packages into 'C:/Users/micuk/Documents/R/win-library/4.1'\n",
      "(as 'lib' is unspecified)\n",
      "\n"
     ]
    },
    {
     "name": "stdout",
     "output_type": "stream",
     "text": [
      "--- Please select a CRAN mirror for use in this session ---\n"
     ]
    },
    {
     "name": "stderr",
     "output_type": "stream",
     "text": [
      "R[write to console]: trying URL 'https://cloud.r-project.org/bin/windows/contrib/4.1/portes_5.0.zip'\n",
      "\n",
      "R[write to console]: Content type 'application/zip'\n",
      "R[write to console]:  length 557584 bytes (544 KB)\n",
      "\n",
      "R[write to console]: downloaded 544 KB\n",
      "\n",
      "\n",
      "R[write to console]: trying URL 'https://cloud.r-project.org/bin/windows/contrib/4.1/vars_1.5-6.zip'\n",
      "\n",
      "R[write to console]: Content type 'application/zip'\n",
      "R[write to console]:  length 426279 bytes (416 KB)\n",
      "\n",
      "R[write to console]: downloaded 416 KB\n",
      "\n",
      "\n",
      "R[write to console]: trying URL 'https://cloud.r-project.org/bin/windows/contrib/4.1/tseries_0.10-49.zip'\n",
      "\n",
      "R[write to console]: Content type 'application/zip'\n",
      "R[write to console]:  length 409886 bytes (400 KB)\n",
      "\n",
      "R[write to console]: downloaded 400 KB\n",
      "\n",
      "\n",
      "R[write to console]: trying URL 'https://cloud.r-project.org/bin/windows/contrib/4.1/fracdiff_1.5-1.zip'\n",
      "\n",
      "R[write to console]: Content type 'application/zip'\n",
      "R[write to console]:  length 135906 bytes (132 KB)\n",
      "\n",
      "R[write to console]: downloaded 132 KB\n",
      "\n",
      "\n",
      "R[write to console]: trying URL 'https://cloud.r-project.org/bin/windows/contrib/4.1/tsoutliers_0.6-8.zip'\n",
      "\n",
      "R[write to console]: Content type 'application/zip'\n",
      "R[write to console]:  length 288719 bytes (281 KB)\n",
      "\n",
      "R[write to console]: downloaded 281 KB\n",
      "\n",
      "\n"
     ]
    },
    {
     "name": "stdout",
     "output_type": "stream",
     "text": [
      "package 'portes' successfully unpacked and MD5 sums checked\n",
      "package 'vars' successfully unpacked and MD5 sums checked\n",
      "package 'tseries' successfully unpacked and MD5 sums checked\n",
      "package 'fracdiff' successfully unpacked and MD5 sums checked\n",
      "package 'tsoutliers' successfully unpacked and MD5 sums checked\n",
      "\n",
      "The downloaded binary packages are in\n",
      "\tC:\\Users\\micuk\\AppData\\Local\\Temp\\RtmpWCSt9P\\downloaded_packages\n"
     ]
    },
    {
     "name": "stderr",
     "output_type": "stream",
     "text": [
      "R[write to console]: Loading required package: parallel\n",
      "\n",
      "R[write to console]: Loading required package: forecast\n",
      "\n",
      "R[write to console]: Registered S3 method overwritten by 'quantmod':\n",
      "  method            from\n",
      "  as.zoo.data.frame zoo \n",
      "\n",
      "R[write to console]: Loading required package: MASS\n",
      "\n",
      "R[write to console]: Loading required package: strucchange\n",
      "\n",
      "R[write to console]: Loading required package: zoo\n",
      "\n",
      "R[write to console]: \n",
      "Attaching package: 'zoo'\n",
      "\n",
      "\n",
      "R[write to console]: The following objects are masked from 'package:base':\n",
      "\n",
      "    as.Date, as.Date.numeric\n",
      "\n",
      "\n",
      "R[write to console]: Loading required package: sandwich\n",
      "\n",
      "R[write to console]: Loading required package: urca\n",
      "\n",
      "R[write to console]: Loading required package: lmtest\n",
      "\n",
      "R[write to console]: \n",
      "    'tseries' version: 0.10-49\n",
      "\n",
      "    'tseries' is a package for time series analysis and computational\n",
      "    finance.\n",
      "\n",
      "    See 'library(help=\"tseries\")' for details.\n",
      "\n",
      "\n"
     ]
    }
   ],
   "source": [
    "%%R\n",
    "install.packages(c(\"portes\", \"vars\", \"tseries\", \"fracdiff\", \"tsoutliers\"))\n",
    "library(\"portes\")\n",
    "library(\"vars\")\n",
    "library(\"tseries\")\n",
    "library(\"fracdiff\")\n",
    "library(\"tsoutliers\")"
   ]
  },
  {
   "cell_type": "markdown",
   "metadata": {
    "pycharm": {
     "name": "#%% md\n"
    }
   },
   "source": [
    "Let's start with downloading some data. I've chosen NASDAQ prices for between 1980 and 1990:"
   ]
  },
  {
   "cell_type": "code",
   "execution_count": 10,
   "metadata": {
    "pycharm": {
     "name": "#%%\n"
    }
   },
   "outputs": [
    {
     "data": {
      "text/plain": [
       "<AxesSubplot:xlabel='Date'>"
      ]
     },
     "execution_count": 10,
     "metadata": {},
     "output_type": "execute_result"
    },
    {
     "data": {
      "image/png": "[encoded data removed]",
      "text/plain": [
       "<Figure size 432x288 with 1 Axes>"
      ]
     },
     "metadata": {
      "needs_background": "light"
     },
     "output_type": "display_data"
    }
   ],
   "source": [
    "data = yf.Ticker(\"^IXIC\").history(start=\"1980-01-01\", end=\"1990-01-01\")[\"Close\"]\n",
    "data.plot()"
   ]
  },
  {
   "cell_type": "markdown",
   "metadata": {
    "pycharm": {
     "name": "#%% md\n"
    }
   },
   "source": [
    "Right in the beginning, let us check if the series has got long or medium memory:"
   ]
  },
  {
   "cell_type": "code",
   "execution_count": 122,
   "metadata": {
    "pycharm": {
     "name": "#%%\n"
    }
   },
   "outputs": [
    {
     "name": "stdout",
     "output_type": "stream",
     "text": [
      "$d\n",
      "[1] 1.044882\n",
      "\n",
      "$sd.as\n",
      "[1] 0.1030489\n",
      "\n",
      "$sd.reg\n",
      "[1] 0.06430204\n",
      "\n"
     ]
    }
   ],
   "source": [
    "%%R -i data\n",
    "fracdiff::fdGPH(data)"
   ]
  },
  {
   "cell_type": "markdown",
   "metadata": {},
   "source": [
    "The parameter d is bigger than 0.5 - it contains no long nor medium memory, so we can proceed. Now it is necessary to check, if the downloaded series is stationary. I will do that by carrying out the ADF and KPSS tests. The series will be considered as stationary only if both of the tests prove stationary:"
   ]
  },
  {
   "cell_type": "code",
   "execution_count": 17,
   "metadata": {
    "pycharm": {
     "name": "#%%\n"
    }
   },
   "outputs": [
    {
     "name": "stdout",
     "output_type": "stream",
     "text": [
      "\n",
      "\tAugmented Dickey-Fuller Test\n",
      "\n",
      "data:  as.ts(data)\n",
      "Dickey-Fuller = -2.8605, Lag order = 13, p-value = 0.214\n",
      "alternative hypothesis: stationary\n",
      "\n",
      "\n",
      "\tKPSS Test for Level Stationarity\n",
      "\n",
      "data:  as.ts(data)\n",
      "KPSS Level = 24.777, Truncation lag parameter = 8, p-value = 0.01\n",
      "\n"
     ]
    }
   ],
   "source": [
    "%%R -i data\n",
    "print(adf.test(as.ts(data)))\n",
    "print(kpss.test(as.ts(data)))"
   ]
  },
  {
   "cell_type": "raw",
   "metadata": {
    "pycharm": {
     "name": "#%% raw\n"
    }
   },
   "source": [
    "The series is not stationary. In such case I will consider differenced returns and log returns, the most appropriate one will be chosen at the end of the analysis:"
   ]
  },
  {
   "cell_type": "code",
   "execution_count": 20,
   "metadata": {
    "pycharm": {
     "name": "#%%\n"
    }
   },
   "outputs": [],
   "source": [
    "returns = data.diff(1)[1:]\n",
    "log_returns = np.log(data).diff(1)[1:]"
   ]
  },
  {
   "cell_type": "code",
   "execution_count": 21,
   "metadata": {
    "pycharm": {
     "name": "#%%\n"
    }
   },
   "outputs": [
    {
     "name": "stdout",
     "output_type": "stream",
     "text": [
      "\n",
      "\tAugmented Dickey-Fuller Test\n",
      "\n",
      "data:  as.ts(returns)\n",
      "Dickey-Fuller = -12.183, Lag order = 13, p-value = 0.01\n",
      "alternative hypothesis: stationary\n",
      "\n",
      "\n",
      "\tKPSS Test for Level Stationarity\n",
      "\n",
      "data:  as.ts(returns)\n",
      "KPSS Level = 0.036385, Truncation lag parameter = 8, p-value = 0.1\n",
      "\n"
     ]
    }
   ],
   "source": [
    "%%R -i returns\n",
    "print(adf.test(as.ts(returns)))\n",
    "print(kpss.test(as.ts(returns)))"
   ]
  },
  {
   "cell_type": "code",
   "execution_count": 22,
   "metadata": {
    "pycharm": {
     "name": "#%%\n"
    }
   },
   "outputs": [
    {
     "name": "stdout",
     "output_type": "stream",
     "text": [
      "\n",
      "\tAugmented Dickey-Fuller Test\n",
      "\n",
      "data:  as.ts(log_returns)\n",
      "Dickey-Fuller = -11.698, Lag order = 13, p-value = 0.01\n",
      "alternative hypothesis: stationary\n",
      "\n",
      "\n",
      "\tKPSS Test for Level Stationarity\n",
      "\n",
      "data:  as.ts(log_returns)\n",
      "KPSS Level = 0.056887, Truncation lag parameter = 8, p-value = 0.1\n",
      "\n"
     ]
    }
   ],
   "source": [
    "%%R -i log_returns\n",
    "print(adf.test(as.ts(log_returns)))\n",
    "print(kpss.test(as.ts(log_returns)))"
   ]
  },
  {
   "cell_type": "markdown",
   "metadata": {
    "pycharm": {
     "name": "#%% md\n"
    }
   },
   "source": [
    "As shown above, both of the returns are stationary. In such case, let's start with analysing the distributions:"
   ]
  },
  {
   "cell_type": "code",
   "execution_count": 66,
   "metadata": {
    "pycharm": {
     "name": "#%%\n"
    }
   },
   "outputs": [
    {
     "data": {
      "image/png": "[encoded data removed]",
      "text/plain": [
       "<Figure size 1440x360 with 2 Axes>"
      ]
     },
     "metadata": {
      "needs_background": "light"
     },
     "output_type": "display_data"
    }
   ],
   "source": [
    "fig, ax = plt.subplots(1,2, figsize=(20,5))\n",
    "\n",
    "ax[0].hist(returns, bins=100)\n",
    "ax[0].title.set_text(\"Normal returns\")\n",
    "\n",
    "ax[1].hist(log_returns, bins=100)\n",
    "ax[1].title.set_text(\"Log returns\")\n",
    "\n",
    "plt.show()"
   ]
  },
  {
   "cell_type": "markdown",
   "metadata": {
    "pycharm": {
     "name": "#%% md\n"
    }
   },
   "source": [
    "The distributions do not seem to have more than one peak, and they appear to have heavy tails. The next step will be checking qqplots:"
   ]
  },
  {
   "cell_type": "code",
   "execution_count": 74,
   "metadata": {
    "pycharm": {
     "name": "#%%\n"
    }
   },
   "outputs": [
    {
     "data": {
      "image/png": "[encoded data removed]",
      "text/plain": [
       "<Figure size 432x288 with 1 Axes>"
      ]
     },
     "metadata": {
      "needs_background": "light"
     },
     "output_type": "display_data"
    },
    {
     "data": {
      "image/png": "[encoded data removed]",
      "text/plain": [
       "<Figure size 432x288 with 1 Axes>"
      ]
     },
     "metadata": {
      "needs_background": "light"
     },
     "output_type": "display_data"
    }
   ],
   "source": [
    "sm.qqplot(returns)\n",
    "plt.title(\"Normal returns\")\n",
    "plt.show()\n",
    "sm.qqplot(log_returns)\n",
    "plt.title(\"Log returns\")\n",
    "plt.show()"
   ]
  },
  {
   "cell_type": "markdown",
   "metadata": {
    "pycharm": {
     "name": "#%% md\n"
    }
   },
   "source": [
    " As expected, the qqplots also show heavy tails, with a little bit of skewness - the series tends to have more extreme negative returns than positive. Let us calculate the kurtosis and skewness then:"
   ]
  },
  {
   "cell_type": "code",
   "execution_count": 89,
   "metadata": {
    "pycharm": {
     "name": "#%%\n"
    }
   },
   "outputs": [
    {
     "data": {
      "text/html": [
       "<div>\n",
       "<style scoped>\n",
       "    .dataframe tbody tr th:only-of-type {\n",
       "        vertical-align: middle;\n",
       "    }\n",
       "\n",
       "    .dataframe tbody tr th {\n",
       "        vertical-align: top;\n",
       "    }\n",
       "\n",
       "    .dataframe thead th {\n",
       "        text-align: right;\n",
       "    }\n",
       "</style>\n",
       "<table border=\"1\" class=\"dataframe\">\n",
       "  <thead>\n",
       "    <tr style=\"text-align: right;\">\n",
       "      <th></th>\n",
       "      <th>Kurtosis</th>\n",
       "      <th>Skewness</th>\n",
       "    </tr>\n",
       "  </thead>\n",
       "  <tbody>\n",
       "    <tr>\n",
       "      <th>returns</th>\n",
       "      <td>61.241339</td>\n",
       "      <td>-3.783896</td>\n",
       "    </tr>\n",
       "    <tr>\n",
       "      <th>log returns</th>\n",
       "      <td>31.941003</td>\n",
       "      <td>-2.417267</td>\n",
       "    </tr>\n",
       "  </tbody>\n",
       "</table>\n",
       "</div>"
      ],
      "text/plain": [
       "              Kurtosis  Skewness\n",
       "returns      61.241339 -3.783896\n",
       "log returns  31.941003 -2.417267"
      ]
     },
     "execution_count": 89,
     "metadata": {},
     "output_type": "execute_result"
    }
   ],
   "source": [
    "res = pd.DataFrame({\"Kurtosis\": [kurtosis(returns), kurtosis(log_returns)], \"Skewness\": [skew(returns), skew(log_returns)]}, index=[\"returns\", \"log returns\"])\n",
    "res"
   ]
  },
  {
   "cell_type": "markdown",
   "metadata": {
    "pycharm": {
     "name": "#%% md\n"
    }
   },
   "source": [
    "Log returns clearly show skewness and kurtosis closer to normal distribution. In such case I will check their normality using Jarque-Bera test:"
   ]
  },
  {
   "cell_type": "code",
   "execution_count": 56,
   "metadata": {
    "pycharm": {
     "name": "#%%\n"
    }
   },
   "outputs": [
    {
     "name": "stdout",
     "output_type": "stream",
     "text": [
      "[1] \"Normal returns: \"\n",
      "\n",
      "\tJarque Bera Test\n",
      "\n",
      "data:  returns\n",
      "X-squared = 401085, df = 2, p-value < 2.2e-16\n",
      "\n",
      "[1] \"-------------------------------\"\n",
      "[1] \"Log returns: \"\n",
      "\n",
      "\tJarque Bera Test\n",
      "\n",
      "data:  log_returns\n",
      "X-squared = 109926, df = 2, p-value < 2.2e-16\n",
      "\n"
     ]
    }
   ],
   "source": [
    "%%R\n",
    "print(\"Normal returns: \")\n",
    "print(jarque.bera.test(returns))\n",
    "print(\"-------------------------------\")\n",
    "print(\"Log returns: \")\n",
    "print(jarque.bera.test(log_returns))"
   ]
  },
  {
   "cell_type": "raw",
   "metadata": {
    "pycharm": {
     "name": "#%% raw\n"
    }
   },
   "source": [
    "Both of the returns reject null hypothesis, the distribution is not normal. Nevertheless it's worth noting, that the chi-squared statistic in case of log returns is smaller. I'm going to check now the autocorrelations and partial autocorrelations using ACF, PACF and Ljung-Box tests:"
   ]
  },
  {
   "cell_type": "code",
   "execution_count": 92,
   "metadata": {
    "pycharm": {
     "name": "#%%\n"
    }
   },
   "outputs": [
    {
     "data": {
      "image/png": "[encoded data removed]"
     },
     "metadata": {},
     "output_type": "display_data"
    },
    {
     "data": {
      "image/png": "[encoded data removed]"
     },
     "metadata": {},
     "output_type": "display_data"
    }
   ],
   "source": [
    "%%R\n",
    "\n",
    "acf(returns)\n",
    "pacf(returns)"
   ]
  },
  {
   "cell_type": "code",
   "execution_count": 96,
   "metadata": {
    "pycharm": {
     "name": "#%%\n"
    }
   },
   "outputs": [
    {
     "data": {
      "image/png": "[encoded data removed]"
     },
     "metadata": {},
     "output_type": "display_data"
    },
    {
     "data": {
      "image/png": "[encoded data removed]"
     },
     "metadata": {},
     "output_type": "display_data"
    }
   ],
   "source": [
    "%%R\n",
    "\n",
    "acf(log_returns)\n",
    "pacf(log_returns)"
   ]
  },
  {
   "cell_type": "markdown",
   "metadata": {
    "pycharm": {
     "name": "#%% md\n"
    }
   },
   "source": [
    "It's worth noting that the plots above suggest seasonality"
   ]
  },
  {
   "cell_type": "code",
   "execution_count": 99,
   "metadata": {
    "pycharm": {
     "name": "#%%\n"
    }
   },
   "outputs": [
    {
     "name": "stdout",
     "output_type": "stream",
     "text": [
      " lags statistic df p-value\n",
      "    5  282.8175  5       0\n",
      "   10  309.6167 10       0\n",
      "   15  318.8461 15       0\n",
      "   20  326.4090 20       0\n",
      "   25  342.0877 25       0\n",
      "   30  378.7536 30       0\n",
      " lags statistic df p-value\n",
      "    5  242.3976  5       0\n",
      "   10  263.9232 10       0\n",
      "   15  281.1797 15       0\n",
      "   20  290.7828 20       0\n",
      "   25  304.6667 25       0\n",
      "   30  326.4139 30       0\n"
     ]
    }
   ],
   "source": [
    "%%R\n",
    "print(LjungBox(returns))\n",
    "print(LjungBox(log_returns))"
   ]
  },
  {
   "cell_type": "markdown",
   "metadata": {
    "pycharm": {
     "name": "#%% md\n"
    }
   },
   "source": [
    "Both types of returns show statistically significant autocorrelations and partial autocorrelations. Since we've confirmed linear relationships, let's test for quadriatic autocorrelation (ARCH effect), and let's visualise it:"
   ]
  },
  {
   "cell_type": "code",
   "execution_count": 108,
   "metadata": {
    "pycharm": {
     "name": "#%%\n"
    }
   },
   "outputs": [
    {
     "data": {
      "image/png": "[encoded data removed]",
      "text/plain": [
       "<Figure size 1440x360 with 2 Axes>"
      ]
     },
     "metadata": {
      "needs_background": "light"
     },
     "output_type": "display_data"
    }
   ],
   "source": [
    "q_returns = returns ** 2\n",
    "q_log_returns = log_returns ** 2\n",
    "\n",
    "fig, ax = plt.subplots(1,2, figsize=(20,5))\n",
    "\n",
    "ax[0].plot(q_returns)\n",
    "ax[0].title.set_text(\"Normal quadriatic returns\")\n",
    "\n",
    "ax[1].plot(q_log_returns)\n",
    "ax[1].title.set_text(\"Log quadriatic returns\")\n",
    "\n",
    "plt.show()"
   ]
  },
  {
   "cell_type": "markdown",
   "metadata": {
    "pycharm": {
     "name": "#%% md\n"
    }
   },
   "source": [
    "The plots suggest that there is some conditional heteroskedasticity. Let's confirm it with additional tests:"
   ]
  },
  {
   "cell_type": "code",
   "execution_count": 110,
   "metadata": {
    "pycharm": {
     "name": "#%%\n"
    }
   },
   "outputs": [
    {
     "data": {
      "image/png": "[encoded data removed]"
     },
     "metadata": {},
     "output_type": "display_data"
    },
    {
     "data": {
      "image/png": "[encoded data removed]"
     },
     "metadata": {},
     "output_type": "display_data"
    }
   ],
   "source": [
    "%%R -i q_returns\n",
    "\n",
    "acf(q_returns)\n",
    "pacf(q_returns)"
   ]
  },
  {
   "cell_type": "code",
   "execution_count": 112,
   "metadata": {
    "pycharm": {
     "name": "#%%\n"
    }
   },
   "outputs": [
    {
     "data": {
      "image/png": "[encoded data removed]"
     },
     "metadata": {},
     "output_type": "display_data"
    },
    {
     "data": {
      "image/png": "[encoded data removed]"
     },
     "metadata": {},
     "output_type": "display_data"
    }
   ],
   "source": [
    "%%R -i q_log_returns\n",
    "\n",
    "acf(q_log_returns)\n",
    "pacf(q_log_returns)"
   ]
  },
  {
   "cell_type": "markdown",
   "metadata": {
    "pycharm": {
     "name": "#%% md\n"
    }
   },
   "source": [
    "The ACF and PACF suggest there indeed might be some ARCH or GARCH effect. Let's now confirm it with Ljung-Box test with the preassumption of the mean equal to 0:"
   ]
  },
  {
   "cell_type": "code",
   "execution_count": 124,
   "metadata": {
    "pycharm": {
     "name": "#%%\n"
    }
   },
   "outputs": [
    {
     "name": "stdout",
     "output_type": "stream",
     "text": [
      " lags statistic df p-value\n",
      "    5  1295.343  5       0\n",
      "   10  1394.289 10       0\n",
      "   15  1399.108 15       0\n",
      "   20  1400.650 20       0\n",
      "   25  1402.139 25       0\n",
      "   30  1414.533 30       0\n",
      " lags statistic df p-value\n",
      "    5  1395.303  5       0\n",
      "   10  1536.878 10       0\n",
      "   15  1541.637 15       0\n",
      "   20  1543.515 20       0\n",
      "   25  1545.574 25       0\n",
      "   30  1554.989 30       0\n"
     ]
    }
   ],
   "source": [
    "%%R\n",
    "\n",
    "print(LjungBox(q_returns))\n",
    "print(LjungBox(q_log_returns))"
   ]
  },
  {
   "cell_type": "markdown",
   "metadata": {
    "pycharm": {
     "name": "#%% md\n"
    }
   },
   "source": [
    "Ljung-Box test has confrimed, that there is a quadriatic relationship in the series. The Engle's ARCH test will be covered in another section, dedicated to volatility. Since it has been confirmed, that log returns present better statistical features, normal returns will not be taken into account in any further analysis."
   ]
  }
 ],
 "metadata": {
  "kernelspec": {
   "display_name": "Python 3 (ipykernel)",
   "language": "python",
   "name": "python3"
  },
  "language_info": {
   "codemirror_mode": {
    "name": "ipython",
    "version": 3
   },
   "file_extension": ".py",
   "mimetype": "text/x-python",
   "name": "python",
   "nbconvert_exporter": "python",
   "pygments_lexer": "ipython3",
   "version": "3.9.7"
  }
 },
 "nbformat": 4,
 "nbformat_minor": 1
}